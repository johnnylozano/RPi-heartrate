{
 "cells": [
  {
   "cell_type": "markdown",
   "id": "ec0dee9b",
   "metadata": {},
   "source": [
    "<center><h2>Lab 7: Heart Rate and SpO2 Data Results</h2></center>"
   ]
  },
  {
   "cell_type": "markdown",
   "id": "0a415afc",
   "metadata": {},
   "source": [
    "<center><h4>By Johnny Lozano and Tanim Choudhury</h4></center>"
   ]
  },
  {
   "cell_type": "code",
   "execution_count": 22,
   "id": "f330f46c",
   "metadata": {},
   "outputs": [
    {
     "data": {
      "text/html": [
       "<div>\n",
       "<style scoped>\n",
       "    .dataframe tbody tr th:only-of-type {\n",
       "        vertical-align: middle;\n",
       "    }\n",
       "\n",
       "    .dataframe tbody tr th {\n",
       "        vertical-align: top;\n",
       "    }\n",
       "\n",
       "    .dataframe thead th {\n",
       "        text-align: right;\n",
       "    }\n",
       "</style>\n",
       "<table border=\"1\" class=\"dataframe\">\n",
       "  <thead>\n",
       "    <tr style=\"text-align: right;\">\n",
       "      <th></th>\n",
       "      <th>HRvalue</th>\n",
       "      <th>ts</th>\n",
       "      <th>SpO2value</th>\n",
       "    </tr>\n",
       "  </thead>\n",
       "  <tbody>\n",
       "    <tr>\n",
       "      <th>count</th>\n",
       "      <td>17.000000</td>\n",
       "      <td>1.700000e+01</td>\n",
       "      <td>17.000000</td>\n",
       "    </tr>\n",
       "    <tr>\n",
       "      <th>mean</th>\n",
       "      <td>95.470588</td>\n",
       "      <td>1.649210e+12</td>\n",
       "      <td>66.606864</td>\n",
       "    </tr>\n",
       "    <tr>\n",
       "      <th>std</th>\n",
       "      <td>24.321075</td>\n",
       "      <td>0.000000e+00</td>\n",
       "      <td>29.108266</td>\n",
       "    </tr>\n",
       "    <tr>\n",
       "      <th>min</th>\n",
       "      <td>50.000000</td>\n",
       "      <td>1.649210e+12</td>\n",
       "      <td>13.232376</td>\n",
       "    </tr>\n",
       "    <tr>\n",
       "      <th>25%</th>\n",
       "      <td>83.000000</td>\n",
       "      <td>1.649210e+12</td>\n",
       "      <td>49.559634</td>\n",
       "    </tr>\n",
       "    <tr>\n",
       "      <th>50%</th>\n",
       "      <td>88.000000</td>\n",
       "      <td>1.649210e+12</td>\n",
       "      <td>73.381800</td>\n",
       "    </tr>\n",
       "    <tr>\n",
       "      <th>75%</th>\n",
       "      <td>115.000000</td>\n",
       "      <td>1.649210e+12</td>\n",
       "      <td>93.803400</td>\n",
       "    </tr>\n",
       "    <tr>\n",
       "      <th>max</th>\n",
       "      <td>136.000000</td>\n",
       "      <td>1.649210e+12</td>\n",
       "      <td>99.855786</td>\n",
       "    </tr>\n",
       "  </tbody>\n",
       "</table>\n",
       "</div>"
      ],
      "text/plain": [
       "          HRvalue            ts  SpO2value\n",
       "count   17.000000  1.700000e+01  17.000000\n",
       "mean    95.470588  1.649210e+12  66.606864\n",
       "std     24.321075  0.000000e+00  29.108266\n",
       "min     50.000000  1.649210e+12  13.232376\n",
       "25%     83.000000  1.649210e+12  49.559634\n",
       "50%     88.000000  1.649210e+12  73.381800\n",
       "75%    115.000000  1.649210e+12  93.803400\n",
       "max    136.000000  1.649210e+12  99.855786"
      ]
     },
     "execution_count": 22,
     "metadata": {},
     "output_type": "execute_result"
    },
    {
     "data": {
      "image/png": "[encoded data removed]",
      "text/plain": [
       "<Figure size 432x288 with 1 Axes>"
      ]
     },
     "metadata": {
      "needs_background": "light"
     },
     "output_type": "display_data"
    }
   ],
   "source": [
    "import matplotlib.pyplot as plt\n",
    "import pandas as pd\n",
    "\n",
    "data = pd.read_csv('Lab_Results.csv')\n",
    "\n",
    "df = pd.DataFrame(data)\n",
    "\n",
    "df.plot.bar(y = [\"HRvalue\", \"SpO2value\"])\n",
    "plt.xlabel(\"Heart Rate and SpO2\")\n",
    "plt.ylabel(\"Value\")\n",
    "plt.title(\"Heart Rate and SpO2 Measurement\")\n",
    "\n",
    "df.describe()"
   ]
  },
  {
   "cell_type": "code",
   "execution_count": null,
   "id": "c428532f",
   "metadata": {},
   "outputs": [],
   "source": []
  }
 ],
 "metadata": {
  "kernelspec": {
   "display_name": "Python 3 (ipykernel)",
   "language": "python",
   "name": "python3"
  },
  "language_info": {
   "codemirror_mode": {
    "name": "ipython",
    "version": 3
   },
   "file_extension": ".py",
   "mimetype": "text/x-python",
   "name": "python",
   "nbconvert_exporter": "python",
   "pygments_lexer": "ipython3",
   "version": "3.9.7"
  }
 },
 "nbformat": 4,
 "nbformat_minor": 5
}
